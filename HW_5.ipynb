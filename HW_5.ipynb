{
 "cells": [
  {
   "cell_type": "markdown",
   "metadata": {
    "id": "MDcEqde2UtVJ"
   },
   "source": [
    "# Домашнее задание \"Производная функции нескольких аргументов\"."
   ]
  },
  {
   "cell_type": "code",
   "execution_count": 1,
   "metadata": {
    "id": "hkGWP9e5TgmG"
   },
   "outputs": [],
   "source": [
    "import numpy as np\n",
    "from scipy.optimize import approx_fprime\n",
    "from scipy.optimize import minimize, rosen\n",
    "from sympy import *"
   ]
  },
  {
   "cell_type": "markdown",
   "metadata": {
    "id": "Brjig4o4UnHe"
   },
   "source": [
    "### Уровень 0:"
   ]
  },
  {
   "cell_type": "markdown",
   "metadata": {
    "id": "xOv4al86VAw1"
   },
   "source": [
    "Посчитайте частные производные функций:"
   ]
  },
  {
   "cell_type": "markdown",
   "metadata": {
    "id": "fCyKnRYIUw2j"
   },
   "source": [
    "\n",
    "1) $f(x,y)=2x^2y^3 + 1/x + y^2x + 7$, а для этой функции также градиент в точке $(1,2)$\n",
    "\n",
    "2) $f(x,y)=x^2y - sin(xy) + cos(x^2) + 6y$"
   ]
  },
  {
   "cell_type": "code",
   "execution_count": 2,
   "metadata": {},
   "outputs": [
    {
     "name": "stdout",
     "output_type": "stream",
     "text": [
      "1) Частная производная по x: 4*x*y**3 + y**2 - 1/x**2\n",
      "Частная производная по y: 6*x**2*y**2 + 2*x*y\n",
      "Градиент в точке (1,2) для ф.1 - вектор [35, 28]\n",
      "\n",
      "\n",
      "2) Частная производная по x: 2*x*y - 2*x*sin(x**2) - y*cos(x*y)\n",
      "Частная производная по y: x**2 - x*cos(x*y) + 6\n"
     ]
    }
   ],
   "source": [
    "x, y = symbols('x y')\n",
    "f1 = 2*np.power(x,2)*np.power(y,3)+1/x+np.power(y,2)*x+7\n",
    "f2 = np.power(x,2)*y-sin(x*y)+cos(np.power(x,2))+6*y\n",
    "\n",
    "exp1 = expand(f1)\n",
    "\n",
    "dx1 = diff(exp1, x)\n",
    "dy1 = diff(exp1, y)\n",
    "\n",
    "print(f'1) Частная производная по x: {dx1}\\nЧастная производная по y: {dy1}')\n",
    "\n",
    "grad = [dx1, dy1]\n",
    "\"\"\"\n",
    "Не смогла перевести строки частных производных из типа sympy.core.add.Add в оперируемые переменными x и y\n",
    "dx1 = 4*x*y**3 + y**2 - 1/x**2 = 35\n",
    "dy1 = 6*x**2*y**2 + 2*x*y = 28\n",
    "\"\"\"\n",
    "print('Градиент в точке (1,2) для ф.1 - вектор [35, 28]\\n\\n')\n",
    "\n",
    "exp2 = expand(f2)\n",
    "\n",
    "dx2 = diff(exp2, x)\n",
    "dy2 = diff(exp2, y)\n",
    "\n",
    "print(f'2) Частная производная по x: {dx2}\\nЧастная производная по y: {dy2}')\n"
   ]
  },
  {
   "cell_type": "markdown",
   "metadata": {
    "id": "COzir0ZGVLtz"
   },
   "source": [
    "### Уровень 1:"
   ]
  },
  {
   "cell_type": "markdown",
   "metadata": {
    "id": "VIW3H6ChVOZQ"
   },
   "source": [
    "Градиентный спуск своими руками:"
   ]
  },
  {
   "cell_type": "code",
   "execution_count": 3,
   "metadata": {
    "id": "rFpy298AUwXs"
   },
   "outputs": [
    {
     "name": "stderr",
     "output_type": "stream",
     "text": [
      "/tmp/ipykernel_88601/1923413065.py:2: RuntimeWarning: overflow encountered in double_scalars\n",
      "  return x[0]**2 + x[1]**2\n",
      "/home/apodkina/.local/lib/python3.8/site-packages/scipy/optimize/_numdiff.py:557: RuntimeWarning: invalid value encountered in subtract\n",
      "  df = fun(x) - f0\n",
      "/home/apodkina/.local/lib/python3.8/site-packages/scipy/optimize/optimize.py:332: RuntimeWarning: overflow encountered in square\n",
      "  r = np.sum(100.0 * (x[1:] - x[:-1]**2.0)**2.0 + (1 - x[:-1])**2.0,\n"
     ]
    },
    {
     "name": "stdout",
     "output_type": "stream",
     "text": [
      "Минимум достигается в:  [0.99999982 0.99999963]\n",
      "Значение функции в минимуме:  1.999998914737283\n"
     ]
    }
   ],
   "source": [
    "def f(x):\n",
    "    return x[0]**2 + x[1]**2\n",
    "\n",
    "x = np.array([100, 200]) # точка градиента\n",
    "lr = 0.1 # learning_rate\n",
    "\n",
    "mp = []\n",
    "mf = []\n",
    "\n",
    "for i in range(100):\n",
    "    # Calculate gradient\n",
    "    eps = np.sqrt(np.finfo(float).eps)\n",
    "    grad = approx_fprime(x,f,[eps,eps])\n",
    "    \n",
    "    minx = minimize(rosen, x, method='Nelder-Mead', tol=1e-6)\n",
    "    \n",
    "    mp.append(minx.x)\n",
    "    mf.append(f(minx.x))\n",
    "    # Update x with gradient\n",
    "    x = x - minx.x * grad\n",
    "    i=+1\n",
    "# print('mp', mp, '\\n\\nmf', mf)\n",
    "\n",
    "print(\"Минимум достигается в: \", mp[mf.index(min(mf))])\n",
    "print(\"Значение функции в минимуме: \", min(mf))"
   ]
  },
  {
   "cell_type": "markdown",
   "metadata": {
    "id": "eAw4uXx_UnJk"
   },
   "source": [
    "\n",
    "Проверка с помощью встроенной функции numpy:"
   ]
  },
  {
   "cell_type": "code",
   "execution_count": 4,
   "metadata": {},
   "outputs": [],
   "source": [
    "# ф-ция np.gradient ? Не поняла что нужно проверять. Сам градиент каждой точки? Спуск? Минимум?"
   ]
  }
 ],
 "metadata": {
  "colab": {
   "name": "HW_5",
   "provenance": []
  },
  "kernelspec": {
   "display_name": "Python 3 (ipykernel)",
   "language": "python",
   "name": "python3"
  },
  "language_info": {
   "codemirror_mode": {
    "name": "ipython",
    "version": 3
   },
   "file_extension": ".py",
   "mimetype": "text/x-python",
   "name": "python",
   "nbconvert_exporter": "python",
   "pygments_lexer": "ipython3",
   "version": "3.8.10"
  }
 },
 "nbformat": 4,
 "nbformat_minor": 1
}
