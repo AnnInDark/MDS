{
 "cells": [
  {
   "cell_type": "markdown",
   "metadata": {
    "id": "_kX74ytuOfgy"
   },
   "source": [
    "# Домашнее задание \"Линейная алгебра. Векторы\"."
   ]
  },
  {
   "cell_type": "markdown",
   "metadata": {
    "id": "rzDIWhwiKxdO"
   },
   "source": [
    "Даны вектора x = (1,1), y = (2, 0) и z = (0,2)\n",
    "\n",
    "Надо:\n",
    "- Изобразить вектора на экране\n",
    "- Изобразить точку x + y + z\n",
    "- Найти угол между векторами x и y"
   ]
  },
  {
   "cell_type": "code",
   "execution_count": 2,
   "metadata": {},
   "outputs": [],
   "source": [
    "import numpy as np\n",
    "import matplotlib.pyplot as plt"
   ]
  },
  {
   "cell_type": "code",
   "execution_count": 62,
   "metadata": {},
   "outputs": [],
   "source": [
    "x = np.array([1,1])\n",
    "y = np.array([2,0])\n",
    "z = np.array([0,2])"
   ]
  },
  {
   "cell_type": "code",
   "execution_count": 63,
   "metadata": {},
   "outputs": [
    {
     "data": {
      "image/png": "[encoded data removed]",
      "text/plain": [
       "<Figure size 432x288 with 1 Axes>"
      ]
     },
     "metadata": {
      "needs_background": "light"
     },
     "output_type": "display_data"
    }
   ],
   "source": [
    "# Изобразить вектора на экране\n",
    "plt.figure()\n",
    "plt.plot(*x, '*-r', label=\"x\")\n",
    "plt.plot(*y, '*-y', label=\"y\")\n",
    "plt.plot(*z, '*-g', label=\"z\")\n",
    "plt.legend()\n",
    "plt.grid()"
   ]
  },
  {
   "cell_type": "code",
   "execution_count": 64,
   "metadata": {},
   "outputs": [
    {
     "data": {
      "image/png": "[encoded data removed]",
      "text/plain": [
       "<Figure size 432x288 with 1 Axes>"
      ]
     },
     "metadata": {
      "needs_background": "light"
     },
     "output_type": "display_data"
    }
   ],
   "source": [
    "# Изобразить точку x + y + z\n",
    "new_point = x + y + z\n",
    "plt.plot(new_point[0], new_point[1], '*-b', label='new_point')\n",
    "plt.legend()\n",
    "plt.grid()\n",
    "plt.show()"
   ]
  },
  {
   "cell_type": "code",
   "execution_count": 70,
   "metadata": {},
   "outputs": [
    {
     "name": "stdout",
     "output_type": "stream",
     "text": [
      "Угол между векторами x и y: 45.00000000000001 градусов или 0.7853981633974484 радиан\n"
     ]
    }
   ],
   "source": [
    "#Найти угол между векторами x и y\n",
    "x_len = pow(np.dot(x,x), 0.5)\n",
    "y_len = pow(np.dot(y,y), 0.5)\n",
    "\n",
    "_cos = np.dot(x, y) / ( x_len*y_len )\n",
    "print(f'Угол между векторами x и y: {np.arccos(_cos)*180/np.pi} градусов или {np.arccos(_cos)} радиан')"
   ]
  },
  {
   "cell_type": "code",
   "execution_count": 26,
   "metadata": {},
   "outputs": [
    {
     "name": "stdout",
     "output_type": "stream",
     "text": [
      "Угол между вектором x и абсциссой: 65.66227236219979 градусов или 1.146022847061661 радиан\n"
     ]
    }
   ],
   "source": [
    "# Угол для координат gps\n",
    "\n",
    "b = [37.618423, 55.751244] # база\n",
    "x = [b[0]-37.629201, b[1]-55.756119] # х относительно базы\n",
    "y = [0, x[1]] # проекция х по абсциссе \n",
    "\n",
    "x_len = pow(np.dot(x,x), 0.5)\n",
    "y_len = pow(np.dot(y,y), 0.5)\n",
    "\n",
    "_cos = np.dot(x, y) / ( x_len*y_len )\n",
    "print(f'Угол между вектором x и абсциссой: {np.arccos(_cos)*180/np.pi} градусов или {np.arccos(_cos)} радиан')"
   ]
  }
 ],
 "metadata": {
  "colab": {
   "name": "HW_ 1",
   "provenance": []
  },
  "kernelspec": {
   "display_name": "Python 3 (ipykernel)",
   "language": "python",
   "name": "python3"
  },
  "language_info": {
   "codemirror_mode": {
    "name": "ipython",
    "version": 3
   },
   "file_extension": ".py",
   "mimetype": "text/x-python",
   "name": "python",
   "nbconvert_exporter": "python",
   "pygments_lexer": "ipython3",
   "version": "3.8.10"
  }
 },
 "nbformat": 4,
 "nbformat_minor": 1
}
