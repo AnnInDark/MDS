{
 "cells": [
  {
   "cell_type": "markdown",
   "metadata": {
    "id": "XCh60YYHSun4"
   },
   "source": [
    "# Домашнее задание \"Математический анализ. Производная\".\n"
   ]
  },
  {
   "cell_type": "markdown",
   "metadata": {
    "id": "dYJjLWBaSur5"
   },
   "source": [
    "### Уровень 0:\n"
   ]
  },
  {
   "cell_type": "markdown",
   "metadata": {
    "id": "jIOhN-AuSuqU"
   },
   "source": [
    "Посчитайте значение первой и второй производной функции:\n",
    "\n",
    "$f(x) = x^5 + 4sin(2x) + cos(3x+3)$ \n",
    "\n",
    "В точке x = 1.\n",
    "\n"
   ]
  },
  {
   "cell_type": "code",
   "execution_count": 6,
   "metadata": {},
   "outputs": [
    {
     "name": "stdout",
     "output_type": "stream",
     "text": [
      "Производная 1го порядка:  2.509071801881646\n",
      "Производная 2го порядка:  -3.19033688356285\n"
     ]
    }
   ],
   "source": [
    "import numpy as np\n",
    "from scipy.misc import derivative\n",
    "\n",
    "def f(x):\n",
    "    return np.power(x,5)+4*np.sin(2*x)+np.cos(3*x+3)\n",
    "\n",
    "print('Производная 1го порядка: ', derivative(func=f, x0=1, n=1, dx=1e-6))\n",
    "print('Производная 2го порядка: ', derivative(func=f, x0=1, n=2, dx=1e-6))\n",
    "\n"
   ]
  },
  {
   "cell_type": "markdown",
   "metadata": {
    "id": "gzEtleVuSuln"
   },
   "source": [
    "### Уровень 1:\n"
   ]
  },
  {
   "cell_type": "markdown",
   "metadata": {
    "id": "1CL3dzNyS_og"
   },
   "source": [
    "Постройте график первой и второй производной функции:\n",
    "\n",
    "$f(x) = sin^5(2x+1)$\n",
    "\n",
    "На отрезке [-5; 5]."
   ]
  },
  {
   "cell_type": "code",
   "execution_count": 11,
   "metadata": {},
   "outputs": [
    {
     "data": {
      "text/plain": [
       "[<matplotlib.lines.Line2D at 0x7f846fb34fd0>]"
      ]
     },
     "execution_count": 11,
     "metadata": {},
     "output_type": "execute_result"
    },
    {
     "data": {
      "image/png": "[encoded data removed]",
      "text/plain": [
       "<Figure size 432x288 with 1 Axes>"
      ]
     },
     "metadata": {
      "needs_background": "light"
     },
     "output_type": "display_data"
    }
   ],
   "source": [
    "import matplotlib.pyplot as plt\n",
    "\n",
    "def f(x):\n",
    "    return np.power(np.sin(2*x+1),5)\n",
    "\n",
    "xx =[]\n",
    "yy=[]\n",
    "x = [x for x in range(-5,5,1)]\n",
    "\n",
    "for i in x:\n",
    "    xx.append(derivative(func=f, x0=i, n=1, dx=1e-6))\n",
    "    yy.append(derivative(func=f, x0=i, n=2, dx=1e-6))\n",
    "\n",
    "plt.plot(x, xx)\n",
    "plt.plot(x, yy)\n"
   ]
  }
 ],
 "metadata": {
  "colab": {
   "name": "HW_4",
   "provenance": []
  },
  "kernelspec": {
   "display_name": "Python 3 (ipykernel)",
   "language": "python",
   "name": "python3"
  },
  "language_info": {
   "codemirror_mode": {
    "name": "ipython",
    "version": 3
   },
   "file_extension": ".py",
   "mimetype": "text/x-python",
   "name": "python",
   "nbconvert_exporter": "python",
   "pygments_lexer": "ipython3",
   "version": "3.8.10"
  }
 },
 "nbformat": 4,
 "nbformat_minor": 1
}
