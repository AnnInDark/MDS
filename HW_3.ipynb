{
 "cells": [
  {
   "cell_type": "markdown",
   "metadata": {
    "id": "pqJ3l8E1PXFU"
   },
   "source": [
    "# Домашнее задание \"Продвинутая линейная алгебра\"."
   ]
  },
  {
   "cell_type": "markdown",
   "metadata": {
    "id": "xV6YXX6VPjiM"
   },
   "source": [
    "### Уровень 0:"
   ]
  },
  {
   "cell_type": "markdown",
   "metadata": {
    "id": "sdJhzn3YPCZG"
   },
   "source": [
    "Придумайте матрицы, которые обладают следующими свойствами:\n",
    "\n",
    "a) Диагональная, ортогональная, но не единичная(!)\n",
    "\n",
    "b) Верхнетреугольная, ортогональная\n",
    "\n",
    "c) Нижнетреугольная, ортогональная\n",
    "\n",
    "d) Матрица, у которой определитель = 1, и все элементы не равны 0\n",
    "\n",
    "P.S. Во всех пунктах ответом должна быть ненулевая матрица размерности не менее 2!\n"
   ]
  },
  {
   "cell_type": "code",
   "execution_count": 110,
   "metadata": {},
   "outputs": [
    {
     "name": "stdout",
     "output_type": "stream",
     "text": [
      "1.0\n"
     ]
    }
   ],
   "source": [
    "import numpy as np\n",
    "\n",
    "# a) Диагональная, ортогональная, но не единичная(!)\n",
    "# Не существует\n",
    "\n",
    "\n",
    "# b) Верхнетреугольная, ортогональная\n",
    "# Не существует\n",
    "\n",
    "# c) Нижнетреугольная, ортогональная\n",
    "# Не существует\n",
    "\n",
    "# # d) Матрица, у которой определитель = 1, и все элементы не равны 0\n",
    "m = np.array([[0.2, 1, 1],\n",
    "                [1, 0.4, 1],\n",
    "                [1.1, 1, 0.5]])\n",
    "print(np.linalg.det(m))"
   ]
  },
  {
   "cell_type": "markdown",
   "metadata": {
    "id": "DoobuSBZQl6d"
   },
   "source": [
    "Найдите собственные значения и собственные вектора матриц:\n",
    "\n",
    "```\n",
    "m = np.array([[2, 2],\n",
    "              [1, 3]])\n",
    "print(m)\n",
    "```"
   ]
  },
  {
   "cell_type": "code",
   "execution_count": 82,
   "metadata": {},
   "outputs": [
    {
     "name": "stdout",
     "output_type": "stream",
     "text": [
      "Собственное значение: 1.0, соответствующий вектор: [-0.89442719 -0.70710678]\n",
      "Собственное значение: 4.0, соответствующий вектор: [ 0.4472136  -0.70710678]\n"
     ]
    }
   ],
   "source": [
    "m = np.array([[2, 2],\n",
    "              [1, 3]])\n",
    "\n",
    "x, y = np.linalg.eig(m)\n",
    "\n",
    "i=0\n",
    "while i < len(x):\n",
    "    print(f'Собственное значение: {x[i]}, соответствующий вектор: {y[i]}')\n",
    "    i+=1"
   ]
  },
  {
   "cell_type": "markdown",
   "metadata": {
    "id": "1IymnLDrPCXH"
   },
   "source": [
    "### Уровень 1:"
   ]
  },
  {
   "cell_type": "markdown",
   "metadata": {
    "id": "iJPawZAEPpJO"
   },
   "source": [
    "\n",
    "Найдите спектральное разложение матрицы:\n",
    "\n",
    "```\n",
    "m = np.array([[1, 2],\n",
    "              [2,3]])\n",
    "print(m)\n",
    "```\n"
   ]
  },
  {
   "cell_type": "code",
   "execution_count": 89,
   "metadata": {},
   "outputs": [
    {
     "name": "stdout",
     "output_type": "stream",
     "text": [
      "[[1. 2.]\n",
      " [2. 3.]]\n"
     ]
    }
   ],
   "source": [
    "m = np.array([[1, 2],\n",
    "              [2, 3]])\n",
    "\n",
    "z, v = np.linalg.eig(m)\n",
    "\n",
    "res = v @ np.diag(z) @ v.T\n",
    "\n",
    "print(res)"
   ]
  },
  {
   "cell_type": "markdown",
   "metadata": {
    "id": "V9fcRZltQoRu"
   },
   "source": [
    "Постройте зависимость качества восстановления рукописных цифр (MNIST) в зависимости от различного количества компонент PCA. В качестве метрики различия предлагаю использовать MSE.*\n",
    "\n",
    "\n"
   ]
  },
  {
   "cell_type": "code",
   "execution_count": 121,
   "metadata": {},
   "outputs": [
    {
     "name": "stdout",
     "output_type": "stream",
     "text": [
      "Число компонентов: 2, картинка [0]  индекс восстановления MCE: 0.8774312899022507\n",
      "Число компонентов: 3, картинка [0]  индекс восстановления MCE: 0.4192058520118318\n",
      "Число компонентов: 4, картинка [0]  индекс восстановления MCE: 0.1163771819252496\n",
      "Число компонентов: 6, картинка [0]  индекс восстановления MCE: 1.6784380762934633e-15\n",
      "Число компонентов: 7, картинка [0]  индекс восстановления MCE: 1.6784380762934633e-15\n",
      "Число компонентов: 1, картинка [1]  индекс восстановления MCE: 0.7422918632939772\n",
      "Число компонентов: 4, картинка [1]  индекс восстановления MCE: 0.06415252789892682\n",
      "Число компонентов: 6, картинка [1]  индекс восстановления MCE: 6.7748246273802425e-16\n",
      "Число компонентов: 2, картинка [2]  индекс восстановления MCE: 1.4729085582437849\n",
      "Число компонентов: 3, картинка [2]  индекс восстановления MCE: 0.9641370975850151\n",
      "Число компонентов: 5, картинка [2]  индекс восстановления MCE: 0.23909804272718072\n",
      "Число компонентов: 7, картинка [2]  индекс восстановления MCE: 2.1778890981038274e-15\n",
      "Число компонентов: 6, картинка [3]  индекс восстановления MCE: 1.6592897940906866e-15\n",
      "Число компонентов: 7, картинка [3]  индекс восстановления MCE: 1.6592897940906866e-15\n"
     ]
    }
   ],
   "source": [
    "from sklearn.datasets import load_digits\n",
    "from sklearn.decomposition import PCA\n",
    "from sklearn.metrics import mean_squared_error\n",
    "import matplotlib.pyplot as plt \n",
    "import numpy as np\n",
    "\n",
    "digits = load_digits()\n",
    "\n",
    "a = []\n",
    "i = 0\n",
    "while i <= 3:\n",
    "    a.append(digits.images[i])\n",
    "    i+=1\n",
    "\n",
    "for n, img in enumerate(a):\n",
    "    for cnum in set(np.random.randint(1,8, 5)):\n",
    "        pca = PCA(n_components=cnum)\n",
    "        pca.fit(img)\n",
    "        zipped = pca.transform(img)\n",
    "        unzipped = pca.inverse_transform(zipped)\n",
    "        print(f'Число компонентов: {cnum}, картинка [{n}] \\\n",
    " индекс восстановления MCE: {mean_squared_error(img, unzipped, squared=False)}')"
   ]
  },
  {
   "cell_type": "markdown",
   "metadata": {
    "id": "pH2vOABpSMSQ"
   },
   "source": [
    "\n",
    "--------------------------------------------------------------------------------"
   ]
  },
  {
   "cell_type": "markdown",
   "metadata": {
    "id": "d1qAqmOMSMUd"
   },
   "source": [
    "У PCA есть метод transform и inverse_transform. Первый - снижает размерность, второй - восстанавливает оригинальные данные с потерей информации.\n",
    "Надо посчитать насколько в среднем точно восстанавливается оригинальная картинка в зависимости от количества компонент в PCA."
   ]
  },
  {
   "cell_type": "markdown",
   "metadata": {
    "id": "THD2Cd1ySPOQ"
   },
   "source": []
  },
  {
   "cell_type": "markdown",
   "metadata": {
    "id": "tosUSbt0QqYG"
   },
   "source": [
    "В качестве справки можно использовать:\n",
    "\n",
    "https://scikit-learn.org/stable/modules/generated/sklearn.decomposition.PCA.html - Документация по PCA\n",
    "\n",
    "https://scikit-learn.org/stable/modules/generated/sklearn.metrics.mean_squared_error.html - Документация по MSE\n",
    "\n",
    "Картинки цифр можно взять отсюда - https://scikit-learn.org/stable/modules/generated/sklearn.datasets.load_digits.html\n"
   ]
  }
 ],
 "metadata": {
  "colab": {
   "collapsed_sections": [],
   "name": "HW_3",
   "provenance": []
  },
  "kernelspec": {
   "display_name": "Python 3 (ipykernel)",
   "language": "python",
   "name": "python3"
  },
  "language_info": {
   "codemirror_mode": {
    "name": "ipython",
    "version": 3
   },
   "file_extension": ".py",
   "mimetype": "text/x-python",
   "name": "python",
   "nbconvert_exporter": "python",
   "pygments_lexer": "ipython3",
   "version": "3.8.10"
  }
 },
 "nbformat": 4,
 "nbformat_minor": 1
}
