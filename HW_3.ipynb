{
 "cells": [
  {
   "cell_type": "markdown",
   "metadata": {
    "id": "pqJ3l8E1PXFU"
   },
   "source": [
    "# Домашнее задание \"Продвинутая линейная алгебра\"."
   ]
  },
  {
   "cell_type": "markdown",
   "metadata": {
    "id": "xV6YXX6VPjiM"
   },
   "source": [
    "### Уровень 0:"
   ]
  },
  {
   "cell_type": "markdown",
   "metadata": {
    "id": "sdJhzn3YPCZG"
   },
   "source": [
    "Придумайте матрицы, которые обладают следующими свойствами:\n",
    "\n",
    "a) Диагональная, ортогональная, но не единичная(!)\n",
    "\n",
    "b) Верхнетреугольная, ортогональная\n",
    "\n",
    "c) Нижнетреугольная, ортогональная\n",
    "\n",
    "d) Матрица, у которой определитель = 1, и все элементы не равны 0\n",
    "\n",
    "P.S. Во всех пунктах ответом должна быть ненулевая матрица размерности не менее 2!\n"
   ]
  },
  {
   "cell_type": "code",
   "execution_count": 187,
   "metadata": {},
   "outputs": [
    {
     "name": "stdout",
     "output_type": "stream",
     "text": [
      "[[1.25 0.5 ]\n",
      " [0.5  1.  ]]\n",
      "1.0\n"
     ]
    }
   ],
   "source": [
    "import numpy as np\n",
    "\n",
    "# # a) Диагональная, ортогональная, но не единичная(!)\n",
    "d = np.array([[1,0],\n",
    "              [0,-1]])\n",
    "# в моей голове это тоже единичная матрица\n",
    "print(np.dot(d, d.T))\n",
    "\n",
    "# # b) Верхнетреугольная, ортогональная\n",
    "# d = np.array([[?,?],\n",
    "#               [0,?]])\n",
    "\n",
    "# print(np.dot(d, d.T))\n",
    "\n",
    "# c) Нижнетреугольная, ортогональная\n",
    "# d = np.array([[?,0],\n",
    "#               [?,?]])\n",
    "\n",
    "# print(np.dot(d, d.T))\n",
    "\n",
    "# # d) Матрица, у которой определитель = 1, и все элементы не равны 0\n",
    "m = np.array([[0.2, 1, 1],\n",
    "              [1, 0.4, 1],\n",
    "              [1.1, 1, 0.5]])\n",
    "print(np.linalg.det(m))"
   ]
  },
  {
   "cell_type": "markdown",
   "metadata": {
    "id": "DoobuSBZQl6d"
   },
   "source": [
    "Найдите собственные значения и собственные вектора матриц:\n",
    "\n",
    "```\n",
    "m = np.array([[2, 2],\n",
    "              [1, 3]])\n",
    "print(m)\n",
    "```"
   ]
  },
  {
   "cell_type": "code",
   "execution_count": 82,
   "metadata": {},
   "outputs": [
    {
     "name": "stdout",
     "output_type": "stream",
     "text": [
      "Собственное значение: 1.0, соответствующий вектор: [-0.89442719 -0.70710678]\n",
      "Собственное значение: 4.0, соответствующий вектор: [ 0.4472136  -0.70710678]\n"
     ]
    }
   ],
   "source": [
    "m = np.array([[2, 2],\n",
    "              [1, 3]])\n",
    "\n",
    "x, y = np.linalg.eig(m)\n",
    "\n",
    "i=0\n",
    "while i < len(x):\n",
    "    print(f'Собственное значение: {x[i]}, соответствующий вектор: {y[i]}')\n",
    "    i+=1"
   ]
  },
  {
   "cell_type": "markdown",
   "metadata": {
    "id": "1IymnLDrPCXH"
   },
   "source": [
    "### Уровень 1:"
   ]
  },
  {
   "cell_type": "markdown",
   "metadata": {
    "id": "iJPawZAEPpJO"
   },
   "source": [
    "\n",
    "Найдите спектральное разложение матрицы:\n",
    "\n",
    "```\n",
    "m = np.array([[1, 2],\n",
    "              [2,3]])\n",
    "print(m)\n",
    "```\n"
   ]
  },
  {
   "cell_type": "code",
   "execution_count": 89,
   "metadata": {},
   "outputs": [
    {
     "name": "stdout",
     "output_type": "stream",
     "text": [
      "[[1. 2.]\n",
      " [2. 3.]]\n"
     ]
    }
   ],
   "source": [
    "m = np.array([[1, 2],\n",
    "              [2, 3]])\n",
    "\n",
    "z, v = np.linalg.eig(m)\n",
    "\n",
    "res = v @ np.diag(z) @ v.T\n",
    "\n",
    "print(res)"
   ]
  },
  {
   "cell_type": "markdown",
   "metadata": {
    "id": "V9fcRZltQoRu"
   },
   "source": [
    "Постройте зависимость качества восстановления рукописных цифр (MNIST) в зависимости от различного количества компонент PCA. В качестве метрики различия предлагаю использовать MSE.*\n",
    "\n",
    "\n"
   ]
  },
  {
   "cell_type": "code",
   "execution_count": 125,
   "metadata": {},
   "outputs": [
    {
     "name": "stdout",
     "output_type": "stream",
     "text": [
      "Средний коэф. восстановления 1.8402290440293896 при числе компонентов 1\n",
      "Средний коэф. восстановления 1.1408750164934398 при числе компонентов 2\n",
      "Средний коэф. восстановления 0.683436241040513 при числе компонентов 3\n",
      "Средний коэф. восстановления 0.2590290314917444 при числе компонентов 4\n",
      "Средний коэф. восстановления 0.08393968365273428 при числе компонентов 5\n",
      "Средний коэф. восстановления 0.002524849475787822 при числе компонентов 6\n",
      "Средний коэф. восстановления 1.881111802970629e-15 при числе компонентов 7\n"
     ]
    },
    {
     "data": {
      "text/plain": [
       "[<matplotlib.lines.Line2D at 0x7f184f170f40>]"
      ]
     },
     "execution_count": 125,
     "metadata": {},
     "output_type": "execute_result"
    },
    {
     "data": {
      "image/png": "[encoded data removed]",
      "text/plain": [
       "<Figure size 432x288 with 1 Axes>"
      ]
     },
     "metadata": {
      "needs_background": "light"
     },
     "output_type": "display_data"
    }
   ],
   "source": [
    "from sklearn.datasets import load_digits\n",
    "from sklearn.decomposition import PCA\n",
    "from sklearn.metrics import mean_squared_error\n",
    "import matplotlib.pyplot as plt \n",
    "import numpy as np\n",
    "import matplotlib.pyplot as plt\n",
    "\n",
    "digits = load_digits()\n",
    "\n",
    "a = []\n",
    "i = 0\n",
    "while i <= 9:\n",
    "    a.append(digits.images[i])\n",
    "    i+=1\n",
    "\n",
    "x = [x for x in range(1,8,1)]\n",
    "y = [] # all_res\n",
    "\n",
    "for cnum in x:\n",
    "    cnum_res = []\n",
    "    for img in a:\n",
    "        pca = PCA(n_components=cnum)\n",
    "        pca.fit(img)\n",
    "        zipped = pca.transform(img)\n",
    "        unzipped = pca.inverse_transform(zipped)\n",
    "        cnum_res.append(mean_squared_error(img, unzipped, squared=False))\n",
    "    avg_res = sum(cnum_res) / len(cnum_res)\n",
    "    y.append(avg_res)\n",
    "    print(f'Средний коэф. восстановления {avg_res} при числе компонентов {cnum}')\n",
    "\n",
    "plt.plot(x, y)"
   ]
  },
  {
   "cell_type": "markdown",
   "metadata": {
    "id": "pH2vOABpSMSQ"
   },
   "source": [
    "\n",
    "--------------------------------------------------------------------------------"
   ]
  },
  {
   "cell_type": "markdown",
   "metadata": {
    "id": "d1qAqmOMSMUd"
   },
   "source": [
    "У PCA есть метод transform и inverse_transform. Первый - снижает размерность, второй - восстанавливает оригинальные данные с потерей информации.\n",
    "Надо посчитать насколько в среднем точно восстанавливается оригинальная картинка в зависимости от количества компонент в PCA."
   ]
  },
  {
   "cell_type": "markdown",
   "metadata": {
    "id": "THD2Cd1ySPOQ"
   },
   "source": []
  },
  {
   "cell_type": "markdown",
   "metadata": {
    "id": "tosUSbt0QqYG"
   },
   "source": [
    "В качестве справки можно использовать:\n",
    "\n",
    "https://scikit-learn.org/stable/modules/generated/sklearn.decomposition.PCA.html - Документация по PCA\n",
    "\n",
    "https://scikit-learn.org/stable/modules/generated/sklearn.metrics.mean_squared_error.html - Документация по MSE\n",
    "\n",
    "Картинки цифр можно взять отсюда - https://scikit-learn.org/stable/modules/generated/sklearn.datasets.load_digits.html\n"
   ]
  }
 ],
 "metadata": {
  "colab": {
   "collapsed_sections": [],
   "name": "HW_3",
   "provenance": []
  },
  "kernelspec": {
   "display_name": "Python 3 (ipykernel)",
   "language": "python",
   "name": "python3"
  },
  "language_info": {
   "codemirror_mode": {
    "name": "ipython",
    "version": 3
   },
   "file_extension": ".py",
   "mimetype": "text/x-python",
   "name": "python",
   "nbconvert_exporter": "python",
   "pygments_lexer": "ipython3",
   "version": "3.8.10"
  }
 },
 "nbformat": 4,
 "nbformat_minor": 1
}
